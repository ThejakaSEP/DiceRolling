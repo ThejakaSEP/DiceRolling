{
 "cells": [
  {
   "cell_type": "code",
   "execution_count": 1,
   "id": "a9563882",
   "metadata": {},
   "outputs": [],
   "source": [
    "import tkinter\n",
    "from PIL import Image, ImageTk\n",
    "import random"
   ]
  },
  {
   "cell_type": "code",
   "execution_count": null,
   "id": "03a4ecd7",
   "metadata": {},
   "outputs": [],
   "source": [
    "# top-level widget which represents the main window of an application\n",
    "# root = tkinter.Tk()\n",
    "root = tkinter.Toplevel()\n",
    "\n",
    "root.geometry('400x400')\n",
    "root.title('Thejaka\\'s Roll the Dice')\n",
    "\n",
    "# Adding label into the frame\n",
    "BlankLine = tkinter.Label(root, text=\"\")\n",
    "BlankLine.pack()\n",
    "\n",
    "# adding label with different font and formatting\n",
    "HeadingLabel = tkinter.Label(root, text=\"Hello!\",\n",
    "   fg = \"white\",\n",
    "     bg = \"black\",\n",
    "     font = \"Helvetica 16 bold italic\")\n",
    "HeadingLabel.pack()\n",
    "\n",
    "# images\n",
    "dice = ['die1.png', 'die2.png', 'die3.png', \n",
    "    'die4.png', 'die5.png', 'die6.png']\n",
    "# simulating the dice with random numbers between\n",
    "# 0 to 6 and generating image\n",
    "DiceImage = ImageTk.PhotoImage(Image.open(random.choice(dice)))\n",
    "\n",
    "\n",
    "# # print(random.choice(dice))\n",
    "# # construct a label widget for image\n",
    "ImageLabel = tkinter.Label(root, image=DiceImage)\n",
    "ImageLabel.image = DiceImage\n",
    "\n",
    "\n",
    "# # packing a widget in the parent widget \n",
    "ImageLabel.pack(expand=True)\n",
    "\n",
    "\n",
    "# function activated by button\n",
    "def rolling_dice():\n",
    "    DiceImage = ImageTk.PhotoImage(Image.open(random.choice(dice)))\n",
    "    # update image\n",
    "    ImageLabel.configure(image=DiceImage)\n",
    "    # keep a reference\n",
    "    ImageLabel.image = DiceImage\n",
    "\n",
    "# adding button, and command will use rolling_dice function\n",
    "button = tkinter.Button(root, text='Roll the Dice', fg='blue', command=rolling_dice)\n",
    "\n",
    "# pack a widget in the parent widget\n",
    "button.pack( expand=True)\n",
    "\n",
    "\n",
    "# call the mainloop of Tk\n",
    "# keeps window open\n",
    "root.mainloop()"
   ]
  },
  {
   "cell_type": "code",
   "execution_count": null,
   "id": "1022f3a5",
   "metadata": {},
   "outputs": [],
   "source": []
  }
 ],
 "metadata": {
  "kernelspec": {
   "display_name": "Python 3",
   "language": "python",
   "name": "python3"
  },
  "language_info": {
   "codemirror_mode": {
    "name": "ipython",
    "version": 3
   },
   "file_extension": ".py",
   "mimetype": "text/x-python",
   "name": "python",
   "nbconvert_exporter": "python",
   "pygments_lexer": "ipython3",
   "version": "3.8.8"
  }
 },
 "nbformat": 4,
 "nbformat_minor": 5
}
